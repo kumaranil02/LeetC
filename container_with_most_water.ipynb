{
  "nbformat": 4,
  "nbformat_minor": 0,
  "metadata": {
    "colab": {
      "name": "container-with-most-water.ipynb",
      "provenance": [],
      "collapsed_sections": []
    },
    "kernelspec": {
      "name": "python3",
      "display_name": "Python 3"
    },
    "language_info": {
      "name": "python"
    }
  },
  "cells": [
    {
      "cell_type": "code",
      "metadata": {
        "id": "Y4tp2YsRliLK"
      },
      "source": [
        "# Input: height = [1,8,6,2,5,4,8,3,7]\n",
        "# Output: 49\n",
        "# Explanation: The above vertical lines are represented by array [1,8,6,2,5,4,8,3,7]. In this case, the max area of water (blue section) the container can contain is 49."
      ],
      "execution_count": 2,
      "outputs": []
    },
    {
      "cell_type": "code",
      "metadata": {
        "id": "LRynkFLslYB2"
      },
      "source": [
        "class Solution:\n",
        "    def maxArea(self, height) -> int:\n",
        "        \n",
        "        if len(height) == 2:\n",
        "            area = min(height)\n",
        "            return(area)\n",
        "        max_h = []\n",
        "        i = len(height) - 1\n",
        "        while i >= 0:\n",
        "            for j in range(0,len(height[0:i])):\n",
        "                if height[i] <= height[j]:\n",
        "                    max_h.append(height[i]*((len(height[0:i])) - j))\n",
        "                else:\n",
        "                    max_h.append(height[j]*((len(height[0:i])) - j))\n",
        "            max_h = [max(max_h)]\n",
        "            i = i - 1\n",
        "        area = max(max_h)\n",
        "        return(area)"
      ],
      "execution_count": 4,
      "outputs": []
    },
    {
      "cell_type": "code",
      "metadata": {
        "id": "3XiZXAaGlhmX"
      },
      "source": [
        "test = Solution()"
      ],
      "execution_count": 5,
      "outputs": []
    },
    {
      "cell_type": "code",
      "metadata": {
        "colab": {
          "base_uri": "https://localhost:8080/"
        },
        "id": "m6SEtvU6lgym",
        "outputId": "cd680fd2-3fb5-40c7-ff31-07c3d3cb135c"
      },
      "source": [
        "test.maxArea([1,8,6,2,5,4,8,3,7])"
      ],
      "execution_count": 6,
      "outputs": [
        {
          "output_type": "execute_result",
          "data": {
            "text/plain": [
              "49"
            ]
          },
          "metadata": {},
          "execution_count": 6
        }
      ]
    },
    {
      "cell_type": "code",
      "metadata": {
        "id": "WX_Xbmq9l8aw"
      },
      "source": [
        "#optimized code\n",
        "class Solution:\n",
        "    def maxArea(self, a) -> int:\n",
        "        n = len(a)\n",
        "        l , r, m = 0, n-1, 0\n",
        "        while(l < r): # set two points on the axis and let them check all points on x axis\n",
        "            if(a[l]< a[r]): # clearly we see that we do not need to look at l's cases as min(a[l], a[r])*(r-l) > min(a[l], a[r-1])(r-l-1) \n",
        "                m = max(m, (r-l)*a[l]) # always update our max\n",
        "                l += 1 \n",
        "            elif(a[r] <= a[l]):\n",
        "                m = max(m, (r-l)*a[r])\n",
        "                r -= 1\n",
        "        return m"
      ],
      "execution_count": 8,
      "outputs": []
    },
    {
      "cell_type": "code",
      "metadata": {
        "id": "j4kE2ivImiAK"
      },
      "source": [
        "test = Solution()"
      ],
      "execution_count": 9,
      "outputs": []
    },
    {
      "cell_type": "code",
      "metadata": {
        "colab": {
          "base_uri": "https://localhost:8080/"
        },
        "id": "bbQBwVI_miAL",
        "outputId": "59b61af5-0127-460f-8bb2-c53e0693fd7b"
      },
      "source": [
        "test.maxArea([1,8,6,2,5,4,8,3,7])"
      ],
      "execution_count": 10,
      "outputs": [
        {
          "output_type": "execute_result",
          "data": {
            "text/plain": [
              "49"
            ]
          },
          "metadata": {},
          "execution_count": 10
        }
      ]
    },
    {
      "cell_type": "code",
      "metadata": {
        "id": "7zE6l44-mnme"
      },
      "source": [
        ""
      ],
      "execution_count": null,
      "outputs": []
    }
  ]
}